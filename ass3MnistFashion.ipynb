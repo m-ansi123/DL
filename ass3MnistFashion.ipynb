{
 "cells": [
  {
   "cell_type": "code",
   "execution_count": null,
   "metadata": {
    "colab": {
     "base_uri": "https://localhost:8080/"
    },
    "executionInfo": {
     "elapsed": 6107,
     "status": "ok",
     "timestamp": 1734590292891,
     "user": {
      "displayName": "Pallavi Yevale",
      "userId": "02221733141260229522"
     },
     "user_tz": -330
    },
    "id": "_j-jTUIGjxog",
    "outputId": "fe36d5fe-d3d9-4668-b54e-9ecf94aa1ab6"
   },
   "outputs": [],
   "source": [
    "import tensorflow as tf\n",
    "import matplotlib.pyplot as plt\n",
    "from tensorflow import keras\n",
    "import numpy as np\n",
    "\n",
    "(x_train, y_train), (x_test, y_test) = keras.datasets.fashion_mnist.load_data()"
   ]
  },
  {
   "cell_type": "code",
   "execution_count": null,
   "metadata": {
    "colab": {
     "base_uri": "https://localhost:8080/",
     "height": 447
    },
    "executionInfo": {
     "elapsed": 452,
     "status": "ok",
     "timestamp": 1734590300829,
     "user": {
      "displayName": "Pallavi Yevale",
      "userId": "02221733141260229522"
     },
     "user_tz": -330
    },
    "id": "EPJO4exOTkPW",
    "outputId": "6e8fe9da-8fe2-4182-e1dd-5d453b5900cc"
   },
   "outputs": [],
   "source": [
    "plt.imshow(x_train[3])"
   ]
  },
  {
   "cell_type": "code",
   "execution_count": null,
   "metadata": {
    "colab": {
     "base_uri": "https://localhost:8080/",
     "height": 447
    },
    "executionInfo": {
     "elapsed": 31,
     "status": "ok",
     "timestamp": 1707882121277,
     "user": {
      "displayName": "Pallavi Yevale",
      "userId": "02221733141260229522"
     },
     "user_tz": -330
    },
    "id": "g6gwec8jYnpV",
    "outputId": "1713da35-d39a-4fb9-9cd3-717337d18924"
   },
   "outputs": [],
   "source": [
    "plt.imshow(x_train[0])"
   ]
  },
  {
   "cell_type": "code",
   "execution_count": null,
   "metadata": {
    "id": "0-c-5JWYPPqT"
   },
   "outputs": [],
   "source": [
    "x_train = x_train.astype('float32') / 255.0\n",
    "x_test = x_test.astype('float32') / 255.0\n",
    "\n",
    "x_train = x_train.reshape(-1, 28, 28, 1)\n",
    "x_test = x_test.reshape(-1, 28, 28, 1)"
   ]
  },
  {
   "cell_type": "code",
   "execution_count": null,
   "metadata": {
    "colab": {
     "base_uri": "https://localhost:8080/"
    },
    "executionInfo": {
     "elapsed": 8,
     "status": "ok",
     "timestamp": 1707451299573,
     "user": {
      "displayName": "Pallavi Yevale",
      "userId": "02221733141260229522"
     },
     "user_tz": -330
    },
    "id": "Th54tYxXPyiB",
    "outputId": "2c57f6f9-2e1d-417c-b574-49b6e361805a"
   },
   "outputs": [],
   "source": [
    "x_train.shape"
   ]
  },
  {
   "cell_type": "code",
   "execution_count": null,
   "metadata": {
    "colab": {
     "base_uri": "https://localhost:8080/"
    },
    "executionInfo": {
     "elapsed": 4,
     "status": "ok",
     "timestamp": 1707451301268,
     "user": {
      "displayName": "Pallavi Yevale",
      "userId": "02221733141260229522"
     },
     "user_tz": -330
    },
    "id": "6TMVZKAtP4BL",
    "outputId": "ecb775ce-92c6-45b0-d01d-624d110f709b"
   },
   "outputs": [],
   "source": [
    "x_test.shape"
   ]
  },
  {
   "cell_type": "code",
   "execution_count": null,
   "metadata": {
    "colab": {
     "base_uri": "https://localhost:8080/"
    },
    "executionInfo": {
     "elapsed": 4,
     "status": "ok",
     "timestamp": 1707451303283,
     "user": {
      "displayName": "Pallavi Yevale",
      "userId": "02221733141260229522"
     },
     "user_tz": -330
    },
    "id": "dCYL-C4PP_ki",
    "outputId": "10aa5237-88f0-44db-b154-ded24688b66e"
   },
   "outputs": [],
   "source": [
    "y_train.shape"
   ]
  },
  {
   "cell_type": "code",
   "execution_count": null,
   "metadata": {
    "colab": {
     "base_uri": "https://localhost:8080/"
    },
    "executionInfo": {
     "elapsed": 401,
     "status": "ok",
     "timestamp": 1707451321240,
     "user": {
      "displayName": "Pallavi Yevale",
      "userId": "02221733141260229522"
     },
     "user_tz": -330
    },
    "id": "5ocddGOxQFiM",
    "outputId": "cdeb3618-f46e-4051-913d-fb31ad7ff0b5"
   },
   "outputs": [],
   "source": [
    "y_test.shape"
   ]
  },
  {
   "cell_type": "code",
   "execution_count": null,
   "metadata": {
    "id": "txTuSANLQJ1S"
   },
   "outputs": [],
   "source": [
    "model = keras.Sequential([\n",
    "    keras.layers.Conv2D(32, (3,3), activation='relu', input_shape=(28,28,1)),\n",
    "    keras.layers.MaxPooling2D((2,2)),   \n",
    "    keras.layers.Dropout(0.25),\n",
    "    keras.layers.Conv2D(64, (3,3), activation='relu'),\n",
    "    keras.layers.MaxPooling2D((2,2)),\n",
    "    keras.layers.Dropout(0.25),\n",
    "    keras.layers.Conv2D(128, (3,3), activation='relu'),\n",
    "    keras.layers.Flatten(),\n",
    "    keras.layers.Dense(128, activation='relu'),\n",
    "    keras.layers.Dropout(0.25),\n",
    "    keras.layers.Dense(10, activation='softmax')\n",
    "])\n"
   ]
  },
  {
   "cell_type": "code",
   "execution_count": null,
   "metadata": {
    "colab": {
     "base_uri": "https://localhost:8080/"
    },
    "executionInfo": {
     "elapsed": 14,
     "status": "ok",
     "timestamp": 1707451325673,
     "user": {
      "displayName": "Pallavi Yevale",
      "userId": "02221733141260229522"
     },
     "user_tz": -330
    },
    "id": "WzBjU3g3idgx",
    "outputId": "5f190c33-9156-463f-ad66-f90dc6a42e8d"
   },
   "outputs": [],
   "source": [
    "model.summary()"
   ]
  },
  {
   "cell_type": "code",
   "execution_count": null,
   "metadata": {
    "colab": {
     "base_uri": "https://localhost:8080/"
    },
    "executionInfo": {
     "elapsed": 603462,
     "status": "ok",
     "timestamp": 1707451931247,
     "user": {
      "displayName": "Pallavi Yevale",
      "userId": "02221733141260229522"
     },
     "user_tz": -330
    },
    "id": "p8ziWNG1QTJh",
    "outputId": "a80643b4-e92d-4219-d647-3442490d4234"
   },
   "outputs": [],
   "source": [
    "model.compile(optimizer='adam', loss='sparse_categorical_crossentropy', metrics=['accuracy'])\n",
    "\n",
    "history = model.fit(x_train, y_train, epochs=10, validation_data=(x_test, y_test))"
   ]
  },
  {
   "cell_type": "code",
   "execution_count": null,
   "metadata": {
    "colab": {
     "base_uri": "https://localhost:8080/"
    },
    "executionInfo": {
     "elapsed": 5101,
     "status": "ok",
     "timestamp": 1707451984287,
     "user": {
      "displayName": "Pallavi Yevale",
      "userId": "02221733141260229522"
     },
     "user_tz": -330
    },
    "id": "BhG8LcfRQnQl",
    "outputId": "683ddb44-7d10-447b-f7c0-a98ab8cb44d0"
   },
   "outputs": [],
   "source": [
    "test_loss, test_acc = model.evaluate(x_test, y_test)\n",
    "print('Test accuracy:', test_acc)"
   ]
  },
  {
   "cell_type": "code",
   "execution_count": null,
   "metadata": {},
   "outputs": [],
   "source": []
  }
 ],
 "metadata": {
  "colab": {
   "provenance": []
  },
  "kernelspec": {
   "display_name": "Python 3 (ipykernel)",
   "language": "python",
   "name": "python3"
  },
  "language_info": {
   "codemirror_mode": {
    "name": "ipython",
    "version": 3
   },
   "file_extension": ".py",
   "mimetype": "text/x-python",
   "name": "python",
   "nbconvert_exporter": "python",
   "pygments_lexer": "ipython3",
   "version": "3.12.7"
  }
 },
 "nbformat": 4,
 "nbformat_minor": 4
}
